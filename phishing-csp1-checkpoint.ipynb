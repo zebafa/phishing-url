{
 "cells": [
  {
   "cell_type": "code",
   "execution_count": 1,
   "id": "5fa265c0",
   "metadata": {},
   "outputs": [],
   "source": [
    "import matplotlib.pyplot as plt\n",
    "import seaborn as sns\n",
    "import numpy as np\n",
    "import warnings\n",
    "warnings.filterwarnings(\"ignore\")\n",
    "from sklearn.utils import shuffle"
   ]
  },
  {
   "cell_type": "code",
   "execution_count": 2,
   "id": "b13f6d9b",
   "metadata": {},
   "outputs": [
    {
     "data": {
      "text/html": [
       "<div>\n",
       "<style scoped>\n",
       "    .dataframe tbody tr th:only-of-type {\n",
       "        vertical-align: middle;\n",
       "    }\n",
       "\n",
       "    .dataframe tbody tr th {\n",
       "        vertical-align: top;\n",
       "    }\n",
       "\n",
       "    .dataframe thead th {\n",
       "        text-align: right;\n",
       "    }\n",
       "</style>\n",
       "<table border=\"1\" class=\"dataframe\">\n",
       "  <thead>\n",
       "    <tr style=\"text-align: right;\">\n",
       "      <th></th>\n",
       "      <th>URL</th>\n",
       "      <th>Label</th>\n",
       "      <th>Protocol</th>\n",
       "    </tr>\n",
       "  </thead>\n",
       "  <tbody>\n",
       "    <tr>\n",
       "      <th>0</th>\n",
       "      <td>nobell.it/70ffb52d079109dca5664cce6f317373782/...</td>\n",
       "      <td>bad</td>\n",
       "      <td>UDP</td>\n",
       "    </tr>\n",
       "    <tr>\n",
       "      <th>1</th>\n",
       "      <td>www.dghjdgf.com/paypal.co.uk/cycgi-bin/webscrc...</td>\n",
       "      <td>bad</td>\n",
       "      <td>UDP</td>\n",
       "    </tr>\n",
       "    <tr>\n",
       "      <th>2</th>\n",
       "      <td>serviciosbys.com/paypal.cgi.bin.get-into.herf....</td>\n",
       "      <td>bad</td>\n",
       "      <td>UDP</td>\n",
       "    </tr>\n",
       "    <tr>\n",
       "      <th>3</th>\n",
       "      <td>mail.printakid.com/www.online.americanexpress....</td>\n",
       "      <td>bad</td>\n",
       "      <td>UDP</td>\n",
       "    </tr>\n",
       "    <tr>\n",
       "      <th>4</th>\n",
       "      <td>thewhiskeydregs.com/wp-content/themes/widescre...</td>\n",
       "      <td>bad</td>\n",
       "      <td>UDP</td>\n",
       "    </tr>\n",
       "    <tr>\n",
       "      <th>5</th>\n",
       "      <td>smilesvoegol.servebbs.org/voegol.php</td>\n",
       "      <td>bad</td>\n",
       "      <td>UDP</td>\n",
       "    </tr>\n",
       "    <tr>\n",
       "      <th>6</th>\n",
       "      <td>premierpaymentprocessing.com/includes/boleto-2...</td>\n",
       "      <td>bad</td>\n",
       "      <td>UDP</td>\n",
       "    </tr>\n",
       "    <tr>\n",
       "      <th>7</th>\n",
       "      <td>myxxxcollection.com/v1/js/jih321/bpd.com.do/do...</td>\n",
       "      <td>bad</td>\n",
       "      <td>UDP</td>\n",
       "    </tr>\n",
       "    <tr>\n",
       "      <th>8</th>\n",
       "      <td>super1000.info/docs</td>\n",
       "      <td>bad</td>\n",
       "      <td>UDP</td>\n",
       "    </tr>\n",
       "    <tr>\n",
       "      <th>9</th>\n",
       "      <td>horizonsgallery.com/js/bin/ssl1/_id/www.paypal...</td>\n",
       "      <td>bad</td>\n",
       "      <td>UDP</td>\n",
       "    </tr>\n",
       "  </tbody>\n",
       "</table>\n",
       "</div>"
      ],
      "text/plain": [
       "                                                 URL Label Protocol\n",
       "0  nobell.it/70ffb52d079109dca5664cce6f317373782/...   bad      UDP\n",
       "1  www.dghjdgf.com/paypal.co.uk/cycgi-bin/webscrc...   bad      UDP\n",
       "2  serviciosbys.com/paypal.cgi.bin.get-into.herf....   bad      UDP\n",
       "3  mail.printakid.com/www.online.americanexpress....   bad      UDP\n",
       "4  thewhiskeydregs.com/wp-content/themes/widescre...   bad      UDP\n",
       "5               smilesvoegol.servebbs.org/voegol.php   bad      UDP\n",
       "6  premierpaymentprocessing.com/includes/boleto-2...   bad      UDP\n",
       "7  myxxxcollection.com/v1/js/jih321/bpd.com.do/do...   bad      UDP\n",
       "8                                super1000.info/docs   bad      UDP\n",
       "9  horizonsgallery.com/js/bin/ssl1/_id/www.paypal...   bad      UDP"
      ]
     },
     "execution_count": 2,
     "metadata": {},
     "output_type": "execute_result"
    }
   ],
   "source": [
    "import pandas as pd\n",
    "phishing = pd.read_excel(\"phishing  url.xlsx\")\n",
    "phishing.head(10)"
   ]
  },
  {
   "cell_type": "code",
   "execution_count": 3,
   "id": "f28ab210",
   "metadata": {},
   "outputs": [
    {
     "data": {
      "text/html": [
       "<div>\n",
       "<style scoped>\n",
       "    .dataframe tbody tr th:only-of-type {\n",
       "        vertical-align: middle;\n",
       "    }\n",
       "\n",
       "    .dataframe tbody tr th {\n",
       "        vertical-align: top;\n",
       "    }\n",
       "\n",
       "    .dataframe thead th {\n",
       "        text-align: right;\n",
       "    }\n",
       "</style>\n",
       "<table border=\"1\" class=\"dataframe\">\n",
       "  <thead>\n",
       "    <tr style=\"text-align: right;\">\n",
       "      <th></th>\n",
       "      <th>URL</th>\n",
       "      <th>Label</th>\n",
       "      <th>Protocol</th>\n",
       "    </tr>\n",
       "  </thead>\n",
       "  <tbody>\n",
       "    <tr>\n",
       "      <th>3884</th>\n",
       "      <td>'iboon.org/iboon\\%20paypal.htm'</td>\n",
       "      <td>good</td>\n",
       "      <td>ftp</td>\n",
       "    </tr>\n",
       "    <tr>\n",
       "      <th>3885</th>\n",
       "      <td>nail-service.com/loreal.files/redirect.php</td>\n",
       "      <td>good</td>\n",
       "      <td>sftp</td>\n",
       "    </tr>\n",
       "    <tr>\n",
       "      <th>3886</th>\n",
       "      <td>savageranch.com/portal/ativar/plugin/BancodoBr...</td>\n",
       "      <td>good</td>\n",
       "      <td>Http</td>\n",
       "    </tr>\n",
       "    <tr>\n",
       "      <th>3887</th>\n",
       "      <td>'savageranch.com/portal/bnzonlineaccess/accoun...</td>\n",
       "      <td>good</td>\n",
       "      <td>Https</td>\n",
       "    </tr>\n",
       "    <tr>\n",
       "      <th>3888</th>\n",
       "      <td>giveu.asadal.com/GoodMatch/SARS.html</td>\n",
       "      <td>good</td>\n",
       "      <td>Http</td>\n",
       "    </tr>\n",
       "  </tbody>\n",
       "</table>\n",
       "</div>"
      ],
      "text/plain": [
       "                                                    URL Label Protocol\n",
       "3884                    'iboon.org/iboon\\%20paypal.htm'  good      ftp\n",
       "3885         nail-service.com/loreal.files/redirect.php  good     sftp\n",
       "3886  savageranch.com/portal/ativar/plugin/BancodoBr...  good     Http\n",
       "3887  'savageranch.com/portal/bnzonlineaccess/accoun...  good    Https\n",
       "3888               giveu.asadal.com/GoodMatch/SARS.html  good     Http"
      ]
     },
     "execution_count": 3,
     "metadata": {},
     "output_type": "execute_result"
    }
   ],
   "source": [
    "phishing.tail()"
   ]
  },
  {
   "cell_type": "code",
   "execution_count": 4,
   "id": "0469b392",
   "metadata": {},
   "outputs": [
    {
     "name": "stdout",
     "output_type": "stream",
     "text": [
      "(3889, 3)\n"
     ]
    }
   ],
   "source": [
    "print(phishing.shape)"
   ]
  },
  {
   "cell_type": "code",
   "execution_count": 5,
   "id": "ec0f0c70",
   "metadata": {},
   "outputs": [
    {
     "data": {
      "text/plain": [
       "Label\n",
       "bad     2676\n",
       "good    1213\n",
       "Name: count, dtype: int64"
      ]
     },
     "execution_count": 5,
     "metadata": {},
     "output_type": "execute_result"
    }
   ],
   "source": [
    "phishing.Label.value_counts()"
   ]
  },
  {
   "cell_type": "code",
   "execution_count": 6,
   "id": "c856d6d7",
   "metadata": {},
   "outputs": [
    {
     "data": {
      "text/plain": [
       "Protocol\n",
       "ICMP           1524\n",
       "tcp             696\n",
       "TCP             561\n",
       "UDP             476\n",
       "http            166\n",
       "udp             116\n",
       "SSH-Patator     113\n",
       "SNMP             52\n",
       "icmp             43\n",
       "Telnet           38\n",
       "Dns              27\n",
       "imap             18\n",
       "pop3             16\n",
       "smtp             15\n",
       "Http             10\n",
       "Https             7\n",
       "ftp               4\n",
       "RDP               3\n",
       "sftp              3\n",
       "snmp              1\n",
       "Name: count, dtype: int64"
      ]
     },
     "execution_count": 6,
     "metadata": {},
     "output_type": "execute_result"
    }
   ],
   "source": [
    "phishing.Protocol.value_counts()"
   ]
  },
  {
   "cell_type": "code",
   "execution_count": 7,
   "id": "7ab115d1",
   "metadata": {},
   "outputs": [
    {
     "data": {
      "text/plain": [
       "URL\n",
       "nobell.it/70ffb52d079109dca5664cce6f317373782/login.SkyPe.com/en/cgi-bin/verification/login/70ffb52d079109dca5664cce6f317373/index.php?cmd=_profile-ach&outdated_page_tmpl=p/gen/failed-to-load&nav=0.5.1&login_access=1322408526    1\n",
       "www.netofficials.com/media/system/propertiesremax.html                                                                                                                                                                               1\n",
       "bit.ly/LIg5jj?=fidel03921039                                                                                                                                                                                                         1\n",
       "bit.ly/NheAvN?=3Dfide98239382                                                                                                                                                                                                        1\n",
       "credit-habbo-gratos.yolasite.com/contact-us.php                                                                                                                                                                                      1\n",
       "                                                                                                                                                                                                                                    ..\n",
       "home.comcast.net/~Rjcrodeo/redirecting1.htm                                                                                                                                                                                          1\n",
       "home.comcast.net/~Phillips.05/ISAPIdllCustomerSupport&ambaybuyerprotectionpoliciesindex1.html                                                                                                                                        1\n",
       "home.comcast.net/~slerivera/redirecting2.htm                                                                                                                                                                                         1\n",
       "home.comcast.net/~themightyneptune/redirecting3.htm                                                                                                                                                                                  1\n",
       "giveu.asadal.com/GoodMatch/SARS.html                                                                                                                                                                                                 1\n",
       "Name: count, Length: 3889, dtype: int64"
      ]
     },
     "execution_count": 7,
     "metadata": {},
     "output_type": "execute_result"
    }
   ],
   "source": [
    "phishing.URL.value_counts()"
   ]
  },
  {
   "cell_type": "code",
   "execution_count": 15,
   "id": "98183524",
   "metadata": {},
   "outputs": [
    {
     "data": {
      "text/plain": [
       "URL         0\n",
       "Label       0\n",
       "Protocol    0\n",
       "dtype: int64"
      ]
     },
     "execution_count": 15,
     "metadata": {},
     "output_type": "execute_result"
    }
   ],
   "source": [
    "phishing.isnull().sum()"
   ]
  },
  {
   "cell_type": "code",
   "execution_count": 17,
   "id": "990007a1",
   "metadata": {},
   "outputs": [],
   "source": [
    "phishing.dropna(inplace=True)"
   ]
  },
  {
   "cell_type": "code",
   "execution_count": 19,
   "id": "bd2f4879",
   "metadata": {},
   "outputs": [
    {
     "data": {
      "text/plain": [
       "URL         0\n",
       "Label       0\n",
       "Protocol    0\n",
       "dtype: int64"
      ]
     },
     "execution_count": 19,
     "metadata": {},
     "output_type": "execute_result"
    }
   ],
   "source": [
    "phishing.isnull().sum()"
   ]
  },
  {
   "cell_type": "code",
   "execution_count": 21,
   "id": "77fec66e",
   "metadata": {},
   "outputs": [
    {
     "data": {
      "text/plain": [
       "0"
      ]
     },
     "execution_count": 21,
     "metadata": {},
     "output_type": "execute_result"
    }
   ],
   "source": [
    "phishing.duplicated().sum()"
   ]
  },
  {
   "cell_type": "code",
   "execution_count": 23,
   "id": "d6bb1297",
   "metadata": {},
   "outputs": [
    {
     "data": {
      "text/plain": [
       "URL         0\n",
       "Label       0\n",
       "Protocol    0\n",
       "dtype: int64"
      ]
     },
     "execution_count": 23,
     "metadata": {},
     "output_type": "execute_result"
    }
   ],
   "source": [
    "phishing.isna().sum()"
   ]
  },
  {
   "cell_type": "code",
   "execution_count": 25,
   "id": "495b3362",
   "metadata": {},
   "outputs": [
    {
     "name": "stdout",
     "output_type": "stream",
     "text": [
      "<class 'pandas.core.frame.DataFrame'>\n",
      "RangeIndex: 3889 entries, 0 to 3888\n",
      "Data columns (total 3 columns):\n",
      " #   Column    Non-Null Count  Dtype \n",
      "---  ------    --------------  ----- \n",
      " 0   URL       3889 non-null   object\n",
      " 1   Label     3889 non-null   object\n",
      " 2   Protocol  3889 non-null   object\n",
      "dtypes: object(3)\n",
      "memory usage: 91.3+ KB\n"
     ]
    }
   ],
   "source": [
    "phishing.info()"
   ]
  },
  {
   "cell_type": "code",
   "execution_count": 27,
   "id": "77195de2",
   "metadata": {},
   "outputs": [
    {
     "data": {
      "text/html": [
       "<div>\n",
       "<style scoped>\n",
       "    .dataframe tbody tr th:only-of-type {\n",
       "        vertical-align: middle;\n",
       "    }\n",
       "\n",
       "    .dataframe tbody tr th {\n",
       "        vertical-align: top;\n",
       "    }\n",
       "\n",
       "    .dataframe thead th {\n",
       "        text-align: right;\n",
       "    }\n",
       "</style>\n",
       "<table border=\"1\" class=\"dataframe\">\n",
       "  <thead>\n",
       "    <tr style=\"text-align: right;\">\n",
       "      <th></th>\n",
       "      <th>URL</th>\n",
       "      <th>Label</th>\n",
       "      <th>Protocol</th>\n",
       "    </tr>\n",
       "  </thead>\n",
       "  <tbody>\n",
       "    <tr>\n",
       "      <th>count</th>\n",
       "      <td>3889</td>\n",
       "      <td>3889</td>\n",
       "      <td>3889</td>\n",
       "    </tr>\n",
       "    <tr>\n",
       "      <th>unique</th>\n",
       "      <td>3889</td>\n",
       "      <td>2</td>\n",
       "      <td>20</td>\n",
       "    </tr>\n",
       "    <tr>\n",
       "      <th>top</th>\n",
       "      <td>nobell.it/70ffb52d079109dca5664cce6f317373782/...</td>\n",
       "      <td>bad</td>\n",
       "      <td>ICMP</td>\n",
       "    </tr>\n",
       "    <tr>\n",
       "      <th>freq</th>\n",
       "      <td>1</td>\n",
       "      <td>2676</td>\n",
       "      <td>1524</td>\n",
       "    </tr>\n",
       "  </tbody>\n",
       "</table>\n",
       "</div>"
      ],
      "text/plain": [
       "                                                      URL Label Protocol\n",
       "count                                                3889  3889     3889\n",
       "unique                                               3889     2       20\n",
       "top     nobell.it/70ffb52d079109dca5664cce6f317373782/...   bad     ICMP\n",
       "freq                                                    1  2676     1524"
      ]
     },
     "execution_count": 27,
     "metadata": {},
     "output_type": "execute_result"
    }
   ],
   "source": [
    "phishing.describe()"
   ]
  },
  {
   "cell_type": "code",
   "execution_count": 29,
   "id": "3e56854d",
   "metadata": {},
   "outputs": [
    {
     "data": {
      "image/png": "[encoded data removed]",
      "text/plain": [
       "<Figure size 640x480 with 1 Axes>"
      ]
     },
     "metadata": {},
     "output_type": "display_data"
    }
   ],
   "source": [
    "sns.countplot(data=phishing, x=\"Label\")\n",
    "plt.show()"
   ]
  },
  {
   "cell_type": "code",
   "execution_count": 30,
   "id": "29924945",
   "metadata": {},
   "outputs": [],
   "source": [
    "df_shuffled = shuffle(phishing, random_state=42)"
   ]
  },
  {
   "cell_type": "code",
   "execution_count": 31,
   "id": "8ae53387",
   "metadata": {},
   "outputs": [],
   "source": [
    "data_size = 5000"
   ]
  },
  {
   "cell_type": "code",
   "execution_count": 35,
   "id": "1864167e",
   "metadata": {},
   "outputs": [],
   "source": [
    "phishing_url = df_shuffled[:data_size].copy()"
   ]
  },
  {
   "cell_type": "code",
   "execution_count": 37,
   "id": "c45d7ef0",
   "metadata": {},
   "outputs": [
    {
     "data": {
      "image/png": "[encoded data removed]",
      "text/plain": [
       "<Figure size 640x480 with 1 Axes>"
      ]
     },
     "metadata": {},
     "output_type": "display_data"
    }
   ],
   "source": [
    "sns.countplot(data=phishing_url, x=\"Label\")\n",
    "plt.title(\"Labels of the phishing url\")\n",
    "\n",
    "plt.show()"
   ]
  },
  {
   "cell_type": "code",
   "execution_count": 38,
   "id": "a42e1cef",
   "metadata": {},
   "outputs": [
    {
     "name": "stdout",
     "output_type": "stream",
     "text": [
      "<class 'pandas.core.frame.DataFrame'>\n",
      "Index: 3889 entries, 2392 to 3174\n",
      "Data columns (total 3 columns):\n",
      " #   Column    Non-Null Count  Dtype \n",
      "---  ------    --------------  ----- \n",
      " 0   URL       3889 non-null   object\n",
      " 1   Label     3889 non-null   object\n",
      " 2   Protocol  3889 non-null   object\n",
      "dtypes: object(3)\n",
      "memory usage: 121.5+ KB\n"
     ]
    }
   ],
   "source": [
    "phishing_url.info()"
   ]
  },
  {
   "cell_type": "code",
   "execution_count": 41,
   "id": "9539ea75",
   "metadata": {},
   "outputs": [],
   "source": [
    "phishing_url.replace({'good':0, 'bad':1}, inplace=True)"
   ]
  },
  {
   "cell_type": "code",
   "execution_count": 43,
   "id": "80949910",
   "metadata": {},
   "outputs": [
    {
     "data": {
      "text/plain": [
       "Label\n",
       "1    2676\n",
       "0    1213\n",
       "Name: count, dtype: int64"
      ]
     },
     "execution_count": 43,
     "metadata": {},
     "output_type": "execute_result"
    }
   ],
   "source": [
    "phishing_url.Label.value_counts()"
   ]
  },
  {
   "cell_type": "code",
   "execution_count": 45,
   "id": "d21a4549",
   "metadata": {},
   "outputs": [],
   "source": [
    "phishing_url.replace({'ICMP':0, 'TCP':1,'UDP':2,'http':3}, inplace=True)"
   ]
  },
  {
   "cell_type": "code",
   "execution_count": 47,
   "id": "776e02e1",
   "metadata": {},
   "outputs": [
    {
     "data": {
      "text/plain": [
       "Protocol\n",
       "0              1524\n",
       "tcp             696\n",
       "1               561\n",
       "2               476\n",
       "3               166\n",
       "udp             116\n",
       "SSH-Patator     113\n",
       "SNMP             52\n",
       "icmp             43\n",
       "Telnet           38\n",
       "Dns              27\n",
       "imap             18\n",
       "pop3             16\n",
       "smtp             15\n",
       "Http             10\n",
       "Https             7\n",
       "ftp               4\n",
       "RDP               3\n",
       "sftp              3\n",
       "snmp              1\n",
       "Name: count, dtype: int64"
      ]
     },
     "execution_count": 47,
     "metadata": {},
     "output_type": "execute_result"
    }
   ],
   "source": [
    "phishing_url.Protocol.value_counts()"
   ]
  },
  {
   "cell_type": "code",
   "execution_count": 49,
   "id": "3f60f4a8",
   "metadata": {},
   "outputs": [
    {
     "data": {
      "image/png": "[encoded data removed]",
      "text/plain": [
       "<Figure size 1300x800 with 1 Axes>"
      ]
     },
     "metadata": {},
     "output_type": "display_data"
    }
   ],
   "source": [
    "labels = [\"good\",'bad']\n",
    "sizes = [dict(phishing_url.Label.value_counts())[0], dict(phishing_url.Label.value_counts())[1]]\n",
    "plt.figure(figsize = (13,8))\n",
    "plt.pie(sizes, labels=labels, autopct='%1.1f%%',\n",
    "        shadow=True, startangle=90)\n",
    "plt.legend([\"good\",'bad'])\n",
    "plt.title('The percentage of phishing url in dataset')\n",
    "plt.show()"
   ]
  },
  {
   "cell_type": "code",
   "execution_count": 50,
   "id": "43552977",
   "metadata": {},
   "outputs": [
    {
     "data": {
      "image/png": "[encoded data removed]",
      "text/plain": [
       "<Figure size 640x320 with 1 Axes>"
      ]
     },
     "metadata": {},
     "output_type": "display_data"
    }
   ],
   "source": [
    "phishing_url['Protocol'] = pd.to_numeric(phishing_url['Protocol'], errors='coerce')\n",
    "plt.figure(figsize=(8, 4), dpi=80)\n",
    "plt.hist(phishing_url.Protocol, bins=20, color='r')\n",
    "plt.title('which type of protocol')\n",
    "plt.show()"
   ]
  },
  {
   "cell_type": "code",
   "execution_count": 52,
   "id": "fe1d1909",
   "metadata": {},
   "outputs": [
    {
     "data": {
      "image/png": "[encoded data removed]",
      "text/plain": [
       "<Figure size 640x320 with 1 Axes>"
      ]
     },
     "metadata": {},
     "output_type": "display_data"
    }
   ],
   "source": [
    "plt.figure(figsize=(8, 4), dpi=80)\n",
    "plt.hist(phishing_url.Label, bins=10, color='k')\n",
    "plt.title('Labels of phishing url')\n",
    "plt.show()"
   ]
  },
  {
   "cell_type": "code",
   "execution_count": 54,
   "id": "fa0171c1",
   "metadata": {},
   "outputs": [
    {
     "data": {
      "text/html": [
       "<div>\n",
       "<style scoped>\n",
       "    .dataframe tbody tr th:only-of-type {\n",
       "        vertical-align: middle;\n",
       "    }\n",
       "\n",
       "    .dataframe tbody tr th {\n",
       "        vertical-align: top;\n",
       "    }\n",
       "\n",
       "    .dataframe thead th {\n",
       "        text-align: right;\n",
       "    }\n",
       "</style>\n",
       "<table border=\"1\" class=\"dataframe\">\n",
       "  <thead>\n",
       "    <tr style=\"text-align: right;\">\n",
       "      <th></th>\n",
       "      <th>URL</th>\n",
       "      <th>Label</th>\n",
       "      <th>Protocol</th>\n",
       "    </tr>\n",
       "  </thead>\n",
       "  <tbody>\n",
       "    <tr>\n",
       "      <th>2392</th>\n",
       "      <td>www.marketplus.com.ar/cart/includes/local/1.php</td>\n",
       "      <td>1</td>\n",
       "      <td>0.0</td>\n",
       "    </tr>\n",
       "    <tr>\n",
       "      <th>2319</th>\n",
       "      <td>www.qu100.com/phpmyadmin/778766777/index.html</td>\n",
       "      <td>1</td>\n",
       "      <td>0.0</td>\n",
       "    </tr>\n",
       "    <tr>\n",
       "      <th>2430</th>\n",
       "      <td>uploads.boxify.me/83141/novo.ini</td>\n",
       "      <td>1</td>\n",
       "      <td>0.0</td>\n",
       "    </tr>\n",
       "    <tr>\n",
       "      <th>3697</th>\n",
       "      <td>moedasgeraaaa.blogspot.com/</td>\n",
       "      <td>0</td>\n",
       "      <td>NaN</td>\n",
       "    </tr>\n",
       "    <tr>\n",
       "      <th>315</th>\n",
       "      <td>paypal.com.us.cgi.bin.webscr.cmd.login.member....</td>\n",
       "      <td>1</td>\n",
       "      <td>2.0</td>\n",
       "    </tr>\n",
       "  </tbody>\n",
       "</table>\n",
       "</div>"
      ],
      "text/plain": [
       "                                                    URL  Label  Protocol\n",
       "2392    www.marketplus.com.ar/cart/includes/local/1.php      1       0.0\n",
       "2319      www.qu100.com/phpmyadmin/778766777/index.html      1       0.0\n",
       "2430                   uploads.boxify.me/83141/novo.ini      1       0.0\n",
       "3697                        moedasgeraaaa.blogspot.com/      0       NaN\n",
       "315   paypal.com.us.cgi.bin.webscr.cmd.login.member....      1       2.0"
      ]
     },
     "execution_count": 54,
     "metadata": {},
     "output_type": "execute_result"
    }
   ],
   "source": [
    "phishing_url.head()"
   ]
  },
  {
   "cell_type": "code",
   "execution_count": 57,
   "id": "ddb171b7",
   "metadata": {},
   "outputs": [
    {
     "data": {
      "text/html": [
       "<div>\n",
       "<style scoped>\n",
       "    .dataframe tbody tr th:only-of-type {\n",
       "        vertical-align: middle;\n",
       "    }\n",
       "\n",
       "    .dataframe tbody tr th {\n",
       "        vertical-align: top;\n",
       "    }\n",
       "\n",
       "    .dataframe thead th {\n",
       "        text-align: right;\n",
       "    }\n",
       "</style>\n",
       "<table border=\"1\" class=\"dataframe\">\n",
       "  <thead>\n",
       "    <tr style=\"text-align: right;\">\n",
       "      <th></th>\n",
       "      <th>URL</th>\n",
       "      <th>Label</th>\n",
       "      <th>Protocol</th>\n",
       "    </tr>\n",
       "  </thead>\n",
       "  <tbody>\n",
       "    <tr>\n",
       "      <th>1130</th>\n",
       "      <td>bit.ly/M77GIA?ferias=93840923804983</td>\n",
       "      <td>0</td>\n",
       "      <td>0.0</td>\n",
       "    </tr>\n",
       "    <tr>\n",
       "      <th>1294</th>\n",
       "      <td>home.comcast.net/~rlewis260/ISAPIdllCustomerSu...</td>\n",
       "      <td>0</td>\n",
       "      <td>0.0</td>\n",
       "    </tr>\n",
       "    <tr>\n",
       "      <th>860</th>\n",
       "      <td>montecitoweddings.com/wp-content//themes/Karma...</td>\n",
       "      <td>0</td>\n",
       "      <td>1.0</td>\n",
       "    </tr>\n",
       "    <tr>\n",
       "      <th>3507</th>\n",
       "      <td>webcamopenchat.blogspot.com/</td>\n",
       "      <td>0</td>\n",
       "      <td>NaN</td>\n",
       "    </tr>\n",
       "    <tr>\n",
       "      <th>3174</th>\n",
       "      <td>www.eov.cl/noticias/imagenes/paypal.com.au/htt...</td>\n",
       "      <td>1</td>\n",
       "      <td>NaN</td>\n",
       "    </tr>\n",
       "  </tbody>\n",
       "</table>\n",
       "</div>"
      ],
      "text/plain": [
       "                                                    URL  Label  Protocol\n",
       "1130                bit.ly/M77GIA?ferias=93840923804983      0       0.0\n",
       "1294  home.comcast.net/~rlewis260/ISAPIdllCustomerSu...      0       0.0\n",
       "860   montecitoweddings.com/wp-content//themes/Karma...      0       1.0\n",
       "3507                       webcamopenchat.blogspot.com/      0       NaN\n",
       "3174  www.eov.cl/noticias/imagenes/paypal.com.au/htt...      1       NaN"
      ]
     },
     "execution_count": 57,
     "metadata": {},
     "output_type": "execute_result"
    }
   ],
   "source": [
    "phishing_url.tail()"
   ]
  },
  {
   "cell_type": "code",
   "execution_count": 59,
   "id": "b96d6f24",
   "metadata": {},
   "outputs": [],
   "source": [
    "X =phishing_url[['URL','Protocol']].copy()\n",
    "y =phishing_url.Label.copy()"
   ]
  },
  {
   "cell_type": "code",
   "execution_count": 78,
   "id": "5242a359-0267-4e04-bd52-b027720894ca",
   "metadata": {},
   "outputs": [
    {
     "name": "stdout",
     "output_type": "stream",
     "text": [
      "Requirement already satisfied: nltk in c:\\programdata\\anaconda3\\lib\\site-packages (3.9.1)\n",
      "Requirement already satisfied: click in c:\\programdata\\anaconda3\\lib\\site-packages (from nltk) (8.1.7)\n",
      "Requirement already satisfied: joblib in c:\\programdata\\anaconda3\\lib\\site-packages (from nltk) (1.4.2)\n",
      "Requirement already satisfied: regex>=2021.8.3 in c:\\programdata\\anaconda3\\lib\\site-packages (from nltk) (2024.9.11)\n",
      "Requirement already satisfied: tqdm in c:\\programdata\\anaconda3\\lib\\site-packages (from nltk) (4.66.5)\n",
      "Requirement already satisfied: colorama in c:\\programdata\\anaconda3\\lib\\site-packages (from click->nltk) (0.4.6)\n"
     ]
    }
   ],
   "source": [
    "!pip install nltk"
   ]
  },
  {
   "cell_type": "code",
   "execution_count": 80,
   "id": "637703b6-8146-455a-b212-d9ef0283ae5a",
   "metadata": {},
   "outputs": [],
   "source": [
    "from nltk.tokenize import RegexpTokenizer"
   ]
  },
  {
   "cell_type": "code",
   "execution_count": 84,
   "id": "accd1a80-bcfb-4a9c-b426-bd7902f7dae8",
   "metadata": {},
   "outputs": [],
   "source": [
    "from nltk.stem import SnowballStemmer"
   ]
  },
  {
   "cell_type": "code",
   "execution_count": 90,
   "id": "f8e90d1d-b642-4e3c-a5d9-22bdd0ef05fa",
   "metadata": {},
   "outputs": [],
   "source": [
    "from sklearn.feature_extraction.text import CountVectorizer"
   ]
  },
  {
   "cell_type": "code",
   "execution_count": 92,
   "id": "6f9b6a88",
   "metadata": {},
   "outputs": [],
   "source": [
    "import re\n",
    "#import RegexpTokenizer\n",
    "tokenizer = RegexpTokenizer(r'[A-Za-z]+')\n",
    "stemmer = SnowballStemmer(\"english\")\n",
    "cv = CountVectorizer()"
   ]
  },
  {
   "cell_type": "code",
   "execution_count": 94,
   "id": "f0e7cb7e",
   "metadata": {},
   "outputs": [],
   "source": [
    "def prepare_data(X) :\n",
    "    X['text_tokenized'] = X.URL.map(lambda t: tokenizer.tokenize(t))\n",
    "    X['text_stemmed'] = X.text_tokenized.map(lambda t: [stemmer.stem(word) for word in t])\n",
    "    X['text_sent'] = X.text_stemmed.map(lambda t: ' '.join(t))\n",
    "    features = cv.fit_transform(X.text_sent)\n",
    "    return X, features"
   ]
  },
  {
   "cell_type": "code",
   "execution_count": 96,
   "id": "a51380db",
   "metadata": {},
   "outputs": [],
   "source": [
    "X, features = prepare_data(X)"
   ]
  },
  {
   "cell_type": "code",
   "execution_count": 98,
   "id": "b968786f",
   "metadata": {},
   "outputs": [],
   "source": [
    "def train_test_model(model, X, y, training_percentage) :\n",
    "    trainX, testX, trainY, testY = train_test_split(X, y, test_size=1-training_percentage, stratify=y, random_state=42)\n",
    "    model.fit(trainX, trainY)\n",
    "    predY = model.predict(testX)\n",
    "    accuracy = accuracy_score(testY, predY)\n",
    "    precision = precision_score(testY, predY, pos_label=1)\n",
    "    recall = recall_score(testY, predY, pos_label=1)\n",
    "    return accuracy, precision, recall  "
   ]
  },
  {
   "cell_type": "code",
   "execution_count": 104,
   "id": "7a2666e6-72ba-4bfd-a2a5-2b611f25a280",
   "metadata": {},
   "outputs": [
    {
     "name": "stdout",
     "output_type": "stream",
     "text": [
      "Collecting xgboost\n",
      "  Downloading xgboost-2.1.2-py3-none-win_amd64.whl.metadata (2.1 kB)\n",
      "Requirement already satisfied: numpy in c:\\programdata\\anaconda3\\lib\\site-packages (from xgboost) (1.26.4)\n",
      "Requirement already satisfied: scipy in c:\\programdata\\anaconda3\\lib\\site-packages (from xgboost) (1.13.1)\n",
      "Downloading xgboost-2.1.2-py3-none-win_amd64.whl (124.9 MB)\n",
      "   ---------------------------------------- 0.0/124.9 MB ? eta -:--:--\n",
      "    --------------------------------------- 2.1/124.9 MB 11.8 MB/s eta 0:00:11\n",
      "   - -------------------------------------- 4.7/124.9 MB 11.9 MB/s eta 0:00:11\n",
      "   -- ------------------------------------- 7.1/124.9 MB 12.1 MB/s eta 0:00:10\n",
      "   --- ------------------------------------ 9.4/124.9 MB 12.0 MB/s eta 0:00:10\n",
      "   --- ------------------------------------ 12.1/124.9 MB 12.0 MB/s eta 0:00:10\n",
      "   ---- ----------------------------------- 14.4/124.9 MB 11.9 MB/s eta 0:00:10\n",
      "   ----- ---------------------------------- 17.0/124.9 MB 11.8 MB/s eta 0:00:10\n",
      "   ------ --------------------------------- 19.4/124.9 MB 11.9 MB/s eta 0:00:09\n",
      "   ------ --------------------------------- 21.8/124.9 MB 11.9 MB/s eta 0:00:09\n",
      "   ------- -------------------------------- 24.4/124.9 MB 11.9 MB/s eta 0:00:09\n",
      "   -------- ------------------------------- 26.7/124.9 MB 11.9 MB/s eta 0:00:09\n",
      "   --------- ------------------------------ 29.1/124.9 MB 11.9 MB/s eta 0:00:09\n",
      "   ---------- ----------------------------- 31.7/124.9 MB 11.8 MB/s eta 0:00:08\n",
      "   ---------- ----------------------------- 34.1/124.9 MB 11.8 MB/s eta 0:00:08\n",
      "   ----------- ---------------------------- 36.7/124.9 MB 11.8 MB/s eta 0:00:08\n",
      "   ------------ --------------------------- 39.1/124.9 MB 11.9 MB/s eta 0:00:08\n",
      "   ------------- -------------------------- 41.7/124.9 MB 11.9 MB/s eta 0:00:08\n",
      "   -------------- ------------------------- 44.0/124.9 MB 11.9 MB/s eta 0:00:07\n",
      "   -------------- ------------------------- 46.4/124.9 MB 11.9 MB/s eta 0:00:07\n",
      "   --------------- ------------------------ 48.8/124.9 MB 11.8 MB/s eta 0:00:07\n",
      "   ---------------- ----------------------- 51.1/124.9 MB 11.8 MB/s eta 0:00:07\n",
      "   ----------------- ---------------------- 53.5/124.9 MB 11.7 MB/s eta 0:00:07\n",
      "   ----------------- ---------------------- 55.6/124.9 MB 11.7 MB/s eta 0:00:06\n",
      "   ------------------ --------------------- 57.7/124.9 MB 11.6 MB/s eta 0:00:06\n",
      "   ------------------- -------------------- 59.8/124.9 MB 11.6 MB/s eta 0:00:06\n",
      "   ------------------- -------------------- 62.1/124.9 MB 11.5 MB/s eta 0:00:06\n",
      "   -------------------- ------------------- 64.5/124.9 MB 11.5 MB/s eta 0:00:06\n",
      "   --------------------- ------------------ 66.6/124.9 MB 11.5 MB/s eta 0:00:06\n",
      "   --------------------- ------------------ 68.7/124.9 MB 11.4 MB/s eta 0:00:05\n",
      "   ---------------------- ----------------- 71.0/124.9 MB 11.4 MB/s eta 0:00:05\n",
      "   ----------------------- ---------------- 73.1/124.9 MB 11.3 MB/s eta 0:00:05\n",
      "   ------------------------ --------------- 75.8/124.9 MB 11.3 MB/s eta 0:00:05\n",
      "   ------------------------- -------------- 78.1/124.9 MB 11.4 MB/s eta 0:00:05\n",
      "   ------------------------- -------------- 80.7/124.9 MB 11.4 MB/s eta 0:00:04\n",
      "   -------------------------- ------------- 83.1/124.9 MB 11.4 MB/s eta 0:00:04\n",
      "   --------------------------- ------------ 85.7/124.9 MB 11.4 MB/s eta 0:00:04\n",
      "   ---------------------------- ----------- 88.1/124.9 MB 11.4 MB/s eta 0:00:04\n",
      "   ----------------------------- ---------- 90.7/124.9 MB 11.4 MB/s eta 0:00:03\n",
      "   ----------------------------- ---------- 93.3/124.9 MB 11.4 MB/s eta 0:00:03\n",
      "   ------------------------------ --------- 95.7/124.9 MB 11.4 MB/s eta 0:00:03\n",
      "   ------------------------------- -------- 98.3/124.9 MB 11.5 MB/s eta 0:00:03\n",
      "   ------------------------------- ------- 100.9/124.9 MB 11.5 MB/s eta 0:00:03\n",
      "   -------------------------------- ------ 103.5/124.9 MB 11.5 MB/s eta 0:00:02\n",
      "   --------------------------------- ----- 105.9/124.9 MB 11.5 MB/s eta 0:00:02\n",
      "   --------------------------------- ----- 108.5/124.9 MB 11.5 MB/s eta 0:00:02\n",
      "   ---------------------------------- ---- 110.9/124.9 MB 11.5 MB/s eta 0:00:02\n",
      "   ----------------------------------- --- 113.5/124.9 MB 11.5 MB/s eta 0:00:01\n",
      "   ------------------------------------ -- 116.1/124.9 MB 11.5 MB/s eta 0:00:01\n",
      "   ------------------------------------ -- 118.5/124.9 MB 11.5 MB/s eta 0:00:01\n",
      "   ------------------------------------- - 121.1/124.9 MB 11.5 MB/s eta 0:00:01\n",
      "   --------------------------------------  123.7/124.9 MB 11.5 MB/s eta 0:00:01\n",
      "   --------------------------------------  124.8/124.9 MB 11.5 MB/s eta 0:00:01\n",
      "   --------------------------------------  124.8/124.9 MB 11.5 MB/s eta 0:00:01\n",
      "   --------------------------------------  124.8/124.9 MB 11.5 MB/s eta 0:00:01\n",
      "   --------------------------------------- 124.9/124.9 MB 11.0 MB/s eta 0:00:00\n",
      "Installing collected packages: xgboost\n",
      "Successfully installed xgboost-2.1.2\n"
     ]
    }
   ],
   "source": [
    "!pip install xgboost"
   ]
  },
  {
   "cell_type": "code",
   "execution_count": 106,
   "id": "59cb6a9c",
   "metadata": {},
   "outputs": [],
   "source": [
    "from sklearn.tree import DecisionTreeClassifier\n",
    "from xgboost import XGBClassifier"
   ]
  },
  {
   "cell_type": "code",
   "execution_count": 108,
   "id": "444c8783",
   "metadata": {},
   "outputs": [],
   "source": [
    "xgb_model = XGBClassifier()\n",
    "dtree = DecisionTreeClassifier()"
   ]
  },
  {
   "cell_type": "code",
   "execution_count": 110,
   "id": "bb40917d",
   "metadata": {},
   "outputs": [],
   "source": [
    "def train_test_model(model, X, y, training_percentage) :\n",
    "    trainX, testX, trainY, testY = train_test_split(X, y, test_size=1-training_percentage, stratify=y, random_state=42)\n",
    "    model.fit(trainX, trainY)\n",
    "    predY = model.predict(testX)\n",
    "    accuracy = accuracy_score(testY, predY)\n",
    "    precision = precision_score(testY, predY, pos_label=1)\n",
    "    recall = recall_score(testY, predY, pos_label=1)\n",
    "    return accuracy, precision, recall  "
   ]
  },
  {
   "cell_type": "code",
   "execution_count": 112,
   "id": "e1aedbde",
   "metadata": {},
   "outputs": [],
   "source": [
    "def train_test_model(model, X, y, training_percentage) :\n",
    "    trainX, testX, trainY, testY = train_test_split(X, y, test_size=1-training_percentage, stratify=y, random_state=42)\n",
    "    model.fit(trainX, trainY)\n",
    "    predY = model.predict(testX)\n",
    "    accuracy = accuracy_score(testY, predY)\n",
    "    precision = precision_score(testY, predY, pos_label=1)\n",
    "    recall = recall_score(testY, predY, pos_label=1)\n",
    "    return accuracy, precision, recall  "
   ]
  },
  {
   "cell_type": "code",
   "execution_count": 156,
   "id": "9121069b-838a-4ed0-9f46-73b7110320f4",
   "metadata": {},
   "outputs": [],
   "source": [
    "from sklearn.model_selection import train_test_split\n",
    "from sklearn.metrics import accuracy_score, precision_score, recall_score"
   ]
  },
  {
   "cell_type": "code",
   "execution_count": 158,
   "id": "171178fa",
   "metadata": {},
   "outputs": [],
   "source": [
    "def train_test_model(model, X, y, training_percentage) :\n",
    "    trainX, testX, trainY, testY = train_test_split(X, y, test_size=1-training_percentage, stratify=y, random_state=42)\n",
    "    model.fit(trainX, trainY)\n",
    "    predY = model.predict(testX)\n",
    "    accuracy = accuracy_score(testY, predY)\n",
    "    precision = precision_score(testY, predY, pos_label=1)\n",
    "    recall = recall_score(testY, predY, pos_label=1)\n",
    "    return accuracy, precision, recall  "
   ]
  },
  {
   "cell_type": "code",
   "execution_count": 160,
   "id": "a4d12380",
   "metadata": {},
   "outputs": [],
   "source": [
    "import numpy as np\n",
    "training_sizes = np.array([0.1, 0.2, 0.3, 0.4, 0.5, 0.6, 0.7, 0.8, 0.9])"
   ]
  },
  {
   "cell_type": "code",
   "execution_count": 162,
   "id": "7b456213",
   "metadata": {},
   "outputs": [],
   "source": [
    "def model_results(model) :\n",
    "    results = []\n",
    "    for p in training_sizes :\n",
    "        results.append(train_test_model(model, features, y, p))\n",
    "    return pd.DataFrame(results, columns=['Accuracy', 'Precision', 'Recall'])"
   ]
  },
  {
   "cell_type": "code",
   "execution_count": 164,
   "id": "2a8d51c0",
   "metadata": {},
   "outputs": [],
   "source": [
    "\n",
    "dtree_results = model_results(dtree)"
   ]
  },
  {
   "cell_type": "code",
   "execution_count": 166,
   "id": "6134a5a0-74aa-4361-a8c0-c4425de0e0bb",
   "metadata": {},
   "outputs": [
    {
     "data": {
      "text/html": [
       "<div>\n",
       "<style scoped>\n",
       "    .dataframe tbody tr th:only-of-type {\n",
       "        vertical-align: middle;\n",
       "    }\n",
       "\n",
       "    .dataframe tbody tr th {\n",
       "        vertical-align: top;\n",
       "    }\n",
       "\n",
       "    .dataframe thead th {\n",
       "        text-align: right;\n",
       "    }\n",
       "</style>\n",
       "<table border=\"1\" class=\"dataframe\">\n",
       "  <thead>\n",
       "    <tr style=\"text-align: right;\">\n",
       "      <th></th>\n",
       "      <th>Accuracy</th>\n",
       "      <th>Precision</th>\n",
       "      <th>Recall</th>\n",
       "    </tr>\n",
       "  </thead>\n",
       "  <tbody>\n",
       "    <tr>\n",
       "      <th>0</th>\n",
       "      <td>0.680377</td>\n",
       "      <td>0.726953</td>\n",
       "      <td>0.857617</td>\n",
       "    </tr>\n",
       "    <tr>\n",
       "      <th>1</th>\n",
       "      <td>0.690874</td>\n",
       "      <td>0.739148</td>\n",
       "      <td>0.851004</td>\n",
       "    </tr>\n",
       "    <tr>\n",
       "      <th>2</th>\n",
       "      <td>0.698494</td>\n",
       "      <td>0.750834</td>\n",
       "      <td>0.840982</td>\n",
       "    </tr>\n",
       "    <tr>\n",
       "      <th>3</th>\n",
       "      <td>0.726221</td>\n",
       "      <td>0.763201</td>\n",
       "      <td>0.872976</td>\n",
       "    </tr>\n",
       "    <tr>\n",
       "      <th>4</th>\n",
       "      <td>0.732134</td>\n",
       "      <td>0.768927</td>\n",
       "      <td>0.872945</td>\n",
       "    </tr>\n",
       "    <tr>\n",
       "      <th>5</th>\n",
       "      <td>0.748072</td>\n",
       "      <td>0.781276</td>\n",
       "      <td>0.880486</td>\n",
       "    </tr>\n",
       "    <tr>\n",
       "      <th>6</th>\n",
       "      <td>0.744644</td>\n",
       "      <td>0.782755</td>\n",
       "      <td>0.870486</td>\n",
       "    </tr>\n",
       "    <tr>\n",
       "      <th>7</th>\n",
       "      <td>0.766067</td>\n",
       "      <td>0.788871</td>\n",
       "      <td>0.900935</td>\n",
       "    </tr>\n",
       "    <tr>\n",
       "      <th>8</th>\n",
       "      <td>0.763496</td>\n",
       "      <td>0.791391</td>\n",
       "      <td>0.891791</td>\n",
       "    </tr>\n",
       "  </tbody>\n",
       "</table>\n",
       "</div>"
      ],
      "text/plain": [
       "   Accuracy  Precision    Recall\n",
       "0  0.680377   0.726953  0.857617\n",
       "1  0.690874   0.739148  0.851004\n",
       "2  0.698494   0.750834  0.840982\n",
       "3  0.726221   0.763201  0.872976\n",
       "4  0.732134   0.768927  0.872945\n",
       "5  0.748072   0.781276  0.880486\n",
       "6  0.744644   0.782755  0.870486\n",
       "7  0.766067   0.788871  0.900935\n",
       "8  0.763496   0.791391  0.891791"
      ]
     },
     "execution_count": 166,
     "metadata": {},
     "output_type": "execute_result"
    }
   ],
   "source": [
    "dtree_results"
   ]
  },
  {
   "cell_type": "code",
   "execution_count": null,
   "id": "0aecb6d6-c730-4e92-a1e0-8d0bacfe924d",
   "metadata": {},
   "outputs": [],
   "source": []
  }
 ],
 "metadata": {
  "kernelspec": {
   "display_name": "Python 3 (ipykernel)",
   "language": "python",
   "name": "python3"
  },
  "language_info": {
   "codemirror_mode": {
    "name": "ipython",
    "version": 3
   },
   "file_extension": ".py",
   "mimetype": "text/x-python",
   "name": "python",
   "nbconvert_exporter": "python",
   "pygments_lexer": "ipython3",
   "version": "3.12.7"
  }
 },
 "nbformat": 4,
 "nbformat_minor": 5
}
